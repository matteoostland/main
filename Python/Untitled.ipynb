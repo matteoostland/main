{
 "cells": [
  {
   "cell_type": "code",
   "execution_count": null,
   "id": "2edcefb7-4a2f-4de9-8954-d9178d5373ca",
   "metadata": {},
   "outputs": [],
   "source": [
    "import encryption as en\n",
    "open(file)\n",
    "en.code('file.txt')\n",
    "en.decode('cypher.txt')"
   ]
  },
  {
   "cell_type": "markdown",
   "id": "3e741a48-3901-43ec-afc3-d6e1d256eae4",
   "metadata": {},
   "source": []
  },
  {
   "cell_type": "code",
   "execution_count": null,
   "id": "06188735-e8cd-4cbb-a3e3-ce42fcb46f64",
   "metadata": {},
   "outputs": [],
   "source": []
  }
 ],
 "metadata": {
  "kernelspec": {
   "display_name": "Python 3 (ipykernel)",
   "language": "python",
   "name": "python3"
  },
  "language_info": {
   "codemirror_mode": {
    "name": "ipython",
    "version": 3
   },
   "file_extension": ".py",
   "mimetype": "text/x-python",
   "name": "python",
   "nbconvert_exporter": "python",
   "pygments_lexer": "ipython3",
   "version": "3.11.8"
  }
 },
 "nbformat": 4,
 "nbformat_minor": 5
}
