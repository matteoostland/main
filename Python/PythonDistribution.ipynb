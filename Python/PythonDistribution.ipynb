{
 "cells": [
  {
   "cell_type": "markdown",
   "id": "imported-ultimate",
   "metadata": {},
   "source": [
    "# Drawing from Probability Distributions\n",
    "A key part of any Monte Carlo simulation is drawing random numbers from known distributions. We model certain physical systems according to various statistical behaviors characterized by probability distributions. \n",
    "\n",
    "# Drawing from non-uniform random distributions\n",
    "\n",
    "In the previous section we learned how to generate random numbers from\n",
    "a uniform probability distribution in an interval $[a,b]$. This\n",
    "distribution was normalized, so that $$\\int _a^b {P(x)dx}=1.$$ Hence, the uniform distribution *by definition* is\n",
    "$P(x)=1/(b-a)$.\n",
    "\n",
    "Now, suppose that we generate a sequence $\\{x_i\\}$ and we take some\n",
    "function of it to generate $\\{y(x_i)\\}=\\{y_i\\}$. This new sequence is\n",
    "going to be distributed according to some probability density $P(y)$,\n",
    "such that $$P(y)dy=P(x)dx$$ or $$P(y)=P(x)\\frac{dx}{dy}.$$\n",
    "\n",
    "If we want to generate a desired normalized distribution $P(y)$ from a uniform distribution $P(x)$, we need\n",
    "to solve the differential equation: $$\\frac{dx}{dy}=P(y).$$ But the\n",
    "solution of this is $$x=\\int _0^y {P(y')dy'}=F(y).$$ Therefore,\n",
    "$$y(x)=F^{-1}(x),\\label{invert}$$ \n",
    "where $F^{-1}$ is the inverse of $F$.\n",
    "\n",
    "### Example: Exponential distribution\n",
    "\n",
    "As an example, let us take $y(x)=-\\ln{(x)}$ with $P(x)$ representing a\n",
    "uniform distribution in the interval $[0,1]$. Then\n",
    "$$P(y)=\\frac{dx}{dy}=e^{-y},$$ which is distributed exponentially. This\n",
    "distribution occurs frequently in real problems such as the radioactive\n",
    "decay of nuclei. You can also see that the quantity $y/\\lambda$ has the\n",
    "distribution $\\lambda\n",
    "e^{-\\lambda y}$.\n",
    "\n",
    "\n"
   ]
  },
  {
   "cell_type": "code",
   "execution_count": null,
   "id": "irish-harvey",
   "metadata": {},
   "outputs": [],
   "source": [
    "%matplotlib inline\n",
    "import numpy as np\n",
    "from matplotlib import pyplot\n",
    "\n",
    "N = 10000\n",
    "# draw from a uniform distribution\n",
    "r = np.random.random(N) \n",
    "\n",
    "xlambda = 0.1 \n",
    "x = -np.log(r)/xlambda\n",
    "\n",
    "binwidth=xlambda*5\n",
    "\n",
    "pyplot.hist(x,bins=np.arange(0.,100., binwidth),density=True);\n",
    "pyplot.plot(np.arange(0.,100.,binwidth),xlambda*np.exp(-xlambda*np.arange(0.,100.,binwidth)),ls='-',c='red',lw=3);"
   ]
  },
  {
   "cell_type": "markdown",
   "id": "formed-riverside",
   "metadata": {},
   "source": [
    "# Drawing random numbers from distributions\n",
    "You can draw random numbers from known distributions by using a subpackage of `scipy` called [`scipy.stats`](https://docs.scipy.org/doc/scipy/reference/stats.html) or using the `random` package. `scipy.stats` contains functions relating to statistical tests and statistical distributions, both continuous and discrete. Keep this package in mind!\n",
    "\n",
    "Here is small program that models the decay of Thallium to Lead."
   ]
  },
  {
   "cell_type": "code",
   "execution_count": null,
   "id": "favorite-symbol",
   "metadata": {
    "scrolled": true
   },
   "outputs": [],
   "source": [
    "from scipy.stats import expon\n",
    "import numpy as np\n",
    "import matplotlib.pyplot as mp\n",
    "#Script models the decay of 1000 Thallium atoms to lead by drawing from a nonuniform probability distribution\n",
    "NT = 1000;\n",
    "NPb = 0\n",
    "#lifetime of Thallium in minutes\n",
    "lifetime = 3.053/np.log(2) \n",
    "\n",
    "# draw exp distribution to produce a Monte Carlo Simulation\n",
    "from scipy.stats import expon\n",
    "#draw from exponential distribution\n",
    "data_expon = expon.rvs(scale=lifetime,loc=0,size=1000)\n",
    "#decays happen at random points according to exponential distribution\n",
    "timepoints = np.sort(data_expon)\n",
    "Tpoints = np.linspace(NT,0,NT)\n",
    "Pbpoints = np.linspace(0,NT,NT)\n",
    "mp.plot(timepoints,Tpoints,'r',label=\"Thallium\")\n",
    "mp.plot(timepoints,Pbpoints,'b',label=\"Lead\")\n",
    "mp.axvline(x=lifetime*np.log(2), color='k', linestyle='--')\n",
    "mp.xlabel(\"time in minutes\")\n",
    "mp.ylabel(\"Number of particles\")\n",
    "mp.legend()"
   ]
  },
  {
   "cell_type": "markdown",
   "id": "3deda431",
   "metadata": {},
   "source": [
    "# Particle Physics\n",
    "Many of the particles produced at accelerations like the Large Hadron Collider (LHC), Fermilab, and the Relativistic Heavy Ion Collider (RHIC) are classified as \"resonances\". In practical terms resonances are just unstable particles, that is particles that decay. These resonances are subject to the energy-time uncertainty principle $$\\Delta E \\Delta t \\sim \\hbar$$ that is, the mass of resonances take a range of possible values depending on their lifetime. The mass values of resonances are modeled using a Breit-Wigner distribution:\n",
    "$$f(E) = \\frac{k}{(E^2-M^2)^2 - \\Gamma^2 M^2}$$\n",
    "where\n",
    "$$k = \\frac{2\\sqrt{2}M\\Gamma\\gamma}{\\pi(M^2-\\gamma)},\\quad \\gamma = \\sqrt{M^2(M^2-\\Gamma^2)}$$\n",
    "where *E* is the center of mass energy of the collision, *M* the central mass of the resonance, and $\\Gamma$ is the decay width where the lifetime, $\\tau$ is $$\\tau = \\frac{1}{\\Gamma}.$$\n",
    "\n",
    "The package `scipy.stats` contains functions that allow us to draw from Breit-Wigner distributions. This allows us to produce monte carlo simulations of particle interactions, compare the simulations to data, and determine whether physical theories are failing to describe some phenomena. "
   ]
  },
  {
   "cell_type": "code",
   "execution_count": null,
   "id": "7a097397",
   "metadata": {},
   "outputs": [],
   "source": [
    "#magic command to force display of graphics \n",
    "%matplotlib inline\n",
    "import numpy as np\n",
    "from scipy.stats import rel_breitwigner\n",
    "import matplotlib.pyplot as mp"
   ]
  },
  {
   "cell_type": "code",
   "execution_count": null,
   "id": "242978bc",
   "metadata": {},
   "outputs": [],
   "source": [
    "#For the Z0 boson\n",
    "M = 91.1876 #GeV\n",
    "gamma = 2.4952 #GeV\n",
    "#the rel_breitwigner distribution takes two parameters\n",
    "rZ = rel_breitwigner.rvs(M/gamma,scale = gamma, size=1000)\n",
    "print(rZ)"
   ]
  },
  {
   "cell_type": "code",
   "execution_count": null,
   "id": "0f472bea",
   "metadata": {},
   "outputs": [],
   "source": [
    "mp.hist(rZ,bins=100)\n",
    "mp.xlabel('Center of Mass Energy $E_{cm}$ (GeV)')"
   ]
  },
  {
   "cell_type": "code",
   "execution_count": null,
   "id": "5db55b5e",
   "metadata": {},
   "outputs": [],
   "source": [
    "# For the Higgs boson\n",
    "mass = 125.3 #GeV\n",
    "width = 0.004 #GeV\n",
    "rho =mass/width\n",
    "sc = width\n",
    "rH = rel_breitwigner.rvs(rho,scale =sc, size=1000)\n",
    "print(rH)"
   ]
  },
  {
   "cell_type": "code",
   "execution_count": null,
   "id": "a7514c3f",
   "metadata": {
    "scrolled": true
   },
   "outputs": [],
   "source": [
    "mp.hist(rH,bins=100)"
   ]
  },
  {
   "cell_type": "code",
   "execution_count": null,
   "id": "efb61b88",
   "metadata": {
    "scrolled": true
   },
   "outputs": [],
   "source": [
    "#combine random lists\n",
    "rT = np.concatenate((rZ,rH),axis=None)\n",
    "print(rT)"
   ]
  },
  {
   "cell_type": "code",
   "execution_count": null,
   "id": "9552d5ee",
   "metadata": {},
   "outputs": [],
   "source": [
    "#what the reconstruction from accelerator detectors would look like in an ideal world\n",
    "mp.hist(rT, bins=100)"
   ]
  },
  {
   "cell_type": "markdown",
   "id": "german-indiana",
   "metadata": {},
   "source": [
    "## The key difference between `random` and `numpy.random` and `scipy.stats`\n",
    "You can draw from the same distributions whether using the `random`, `numpy.random`, or the `scipy.stats` package. The difference comes down to convenience. 'random' package functions tend to only draw 1 number at a time. "
   ]
  },
  {
   "cell_type": "code",
   "execution_count": null,
   "id": "9d29f084",
   "metadata": {},
   "outputs": [],
   "source": [
    "import random as rn\n",
    "rn.expovariate(lambd = 2)"
   ]
  },
  {
   "cell_type": "code",
   "execution_count": null,
   "id": "1b834010",
   "metadata": {},
   "outputs": [],
   "source": [
    "#More machinary is needed to get multiple numbers from expovariate\n",
    "exp = []\n",
    "for k in range(1, 1000):\n",
    "    rando = rn.expovariate(lambd=2)\n",
    "    exp.append(rando)\n",
    "mp.hist(exp,bins=100)"
   ]
  },
  {
   "cell_type": "code",
   "execution_count": null,
   "id": "6bfc21fc",
   "metadata": {},
   "outputs": [],
   "source": []
  }
 ],
 "metadata": {
  "kernelspec": {
   "display_name": "Python 3 (ipykernel)",
   "language": "python",
   "name": "python3"
  },
  "language_info": {
   "codemirror_mode": {
    "name": "ipython",
    "version": 3
   },
   "file_extension": ".py",
   "mimetype": "text/x-python",
   "name": "python",
   "nbconvert_exporter": "python",
   "pygments_lexer": "ipython3",
   "version": "3.11.8"
  }
 },
 "nbformat": 4,
 "nbformat_minor": 5
}
