{
 "cells": [
  {
   "cell_type": "markdown",
   "metadata": {},
   "source": [
    "# Regular Expressions\n",
    "\n",
    "The term `Regular Expression` refers to sequences of characters that form search parameters for texts patterns. Python has a package `re`, containing functions used in Regular Expressions. This package has 4 main functions:\n",
    "\n",
    "- `findall` - returns a list containing all matches\n",
    "- `search` - returns a `match object` if a match exists\n",
    "- `split` - returns a list where the string has been split at each match\n",
    "- `sub` - replaces all matches in a string with other specified characters\n",
    "\n",
    "Regular expressions allow you to carry out this four basic functions using special sequences and metacharacters to help in pattern matching. Instead of matching a single word, you can use special characters shown below to match a array of possible words matching certain patterns.\n",
    "\n",
    "More information about the metacharacters and special sequences can be found here: [Regex in Python](https://docs.python.org/3/howto/regex.html)\n",
    "\n",
    "| Character | Description                                    | Example         |\n",
    "|-----------|------------------------------------------------|-----------------|\n",
    "| []        | A set of characters                           | \"[a-m]\"         |\n",
    "| \\         | Signals a special sequence                    | \"\\\\d\"           |\n",
    "| .         | Any character (except newline character)      | \"he..o\"         |\n",
    "| ^         | Starts with                                   | \"^hello\"        |\n",
    "| $         | Ends with                                     | \"planet\\\\$\"     |\n",
    "| *         | Zero or more occurrences                      | \"he.*o\"         |\n",
    "| +         | One or more occurrences                       | \"he.+o\"         |\n",
    "| ?         | Zero or one occurrences                       | \"he.?o\"         |\n",
    "| {}        | Exactly the specified number of occurrences  | \"he.{2}o\"       |\n",
    "| \\|        | Either or                                     | \"falls\\|stays\"  |\n",
    "| ()        | Capture and group                             |                 |\n",
    "| \\d        | Matches any decimal digit                     |                 |\n",
    "| \\D        | Matches any non-digit character               |                 |\n",
    "| \\s        | Matches any whitespace character              |                 |\n",
    "| \\S        | Matches any non-whitespace character          |                 |\n",
    "| \\w        | Matches any alphanumeric character            |                 |\n",
    "| \\W        | Matches any non-alphanumeric character        |                 |\n",
    "\n",
    "\n",
    "The regular expression functionality is found in the package `re`"
   ]
  },
  {
   "cell_type": "code",
   "execution_count": null,
   "metadata": {},
   "outputs": [],
   "source": [
    "import re"
   ]
  },
  {
   "cell_type": "markdown",
   "metadata": {},
   "source": [
    "## Finding a match\n",
    "`findall` returns a list of all the matches that correspond to the regular expression pattern."
   ]
  },
  {
   "cell_type": "code",
   "execution_count": null,
   "metadata": {},
   "outputs": [],
   "source": [
    "str1 = \"The rain in Spain falls mainly on the plains\"\n",
    "pat1 = r\"\\w+ain\\w*\"\n",
    "x1 = re.findall(pat1,str1)\n",
    "print(x1)"
   ]
  },
  {
   "cell_type": "code",
   "execution_count": null,
   "metadata": {},
   "outputs": [],
   "source": [
    "str2=\"Denise and Dennis deny denouncing their dentist. Their denials denominated the news.\"\n",
    "pat2=r\"[Dd]en\\w*\"\n",
    "x2 = re.findall(pat2,str2)\n",
    "print(x2)"
   ]
  },
  {
   "cell_type": "markdown",
   "metadata": {},
   "source": [
    "## Search for only the first match\n",
    "The only significant difference between `findall` and `search` is that `search` will only find **the first match** in the string of interest. "
   ]
  },
  {
   "cell_type": "code",
   "execution_count": null,
   "metadata": {},
   "outputs": [],
   "source": [
    "str1 = \"The rain in Spain falls mainly on the plains\"\n",
    "pat1 = r\"\\w+a(in)\\w*\"\n",
    "x = re.search(pat1,str1)\n",
    "print(x)"
   ]
  },
  {
   "cell_type": "code",
   "execution_count": null,
   "metadata": {},
   "outputs": [],
   "source": [
    "x.span()"
   ]
  },
  {
   "cell_type": "code",
   "execution_count": null,
   "metadata": {},
   "outputs": [],
   "source": [
    "x.group(1)"
   ]
  },
  {
   "cell_type": "markdown",
   "metadata": {},
   "source": [
    "There are several methods that you can use to access the information in the Match object produced by `search`. These methods can give you the indices of the match, the match, and the original string."
   ]
  },
  {
   "cell_type": "code",
   "execution_count": null,
   "metadata": {},
   "outputs": [],
   "source": [
    "print(x.start())\n",
    "print(x.end())\n",
    "print(x.span())\n",
    "print(x.string)\n",
    "print(x.group())"
   ]
  },
  {
   "cell_type": "markdown",
   "metadata": {},
   "source": [
    "## Splitting apart\n",
    "The `split` function in `re` allows you to split your string on any character(s) you wish. There are also optional arguments allowing you to specify the exact number of splits you wish to make in a given string"
   ]
  },
  {
   "cell_type": "code",
   "execution_count": null,
   "metadata": {},
   "outputs": [],
   "source": [
    "getty = \"But, in a larger sense, we can not dedicate—we can not consecrate—we can not hallow—this ground.\";\n",
    "pat3 = r'[\\s—,]+'\n",
    "pat4 = r'[—]'\n",
    "x3=re.split(pat3,getty)\n",
    "x4=re.split(pat4,getty,maxsplit=2)\n",
    "print(x3)\n",
    "print(x4)"
   ]
  },
  {
   "cell_type": "markdown",
   "metadata": {},
   "source": [
    "## Substitution\n",
    "The function `sub` will return the altered string after it substitutes a replacement substring."
   ]
  },
  {
   "cell_type": "code",
   "execution_count": null,
   "metadata": {},
   "outputs": [],
   "source": [
    "x5 = re.sub(r\"[Dd]en\",r\"ur\",str2)\n",
    "print(x5)"
   ]
  },
  {
   "cell_type": "markdown",
   "metadata": {},
   "source": [
    "## Grouping\n",
    "Including `()` around the part of a regular expression allows you to capture and extract specific parts of the matched pattern. "
   ]
  },
  {
   "cell_type": "code",
   "execution_count": null,
   "metadata": {},
   "outputs": [],
   "source": [
    "# List of emails\n",
    "emails = [\n",
    "    'alice@example.com',\n",
    "    'bob@test.org',\n",
    "    'charlie@mydomain.net'\n",
    "]\n",
    "\n",
    "# Regular expression to capture the domain part after the '@'\n",
    "pattern = r'([a-zA-Z0-9]+)@([a-zA-Z0-9.-]+)'\n",
    "\n",
    "for email in emails:\n",
    "    match = re.search(pattern, email)\n",
    "    if match:\n",
    "        print(f'The user name in {email} is: {match.group(1)}')\n",
    "        print(f'The domain in {email} is: {match.group(2)}')"
   ]
  },
  {
   "cell_type": "markdown",
   "metadata": {},
   "source": [
    "# Web Scraping\n",
    "We can use regular expression to scrap things from the internet. In fact, nefarious actors on the internet use this method so egregiously, organizations now bury email addresses and phone numbers in images and other places that are not so easily accessible."
   ]
  },
  {
   "cell_type": "code",
   "execution_count": null,
   "metadata": {},
   "outputs": [],
   "source": [
    "import urllib.request as ur"
   ]
  },
  {
   "cell_type": "code",
   "execution_count": null,
   "metadata": {},
   "outputs": [],
   "source": [
    "#grab a webpage\n",
    "page = ur.urlopen('https://www.senate.gov/senators/')\n",
    "print(page.getcode())"
   ]
  },
  {
   "cell_type": "code",
   "execution_count": null,
   "metadata": {},
   "outputs": [],
   "source": [
    "html = page.read()\n",
    "strhtml = str(html,'utf-8')"
   ]
  },
  {
   "cell_type": "code",
   "execution_count": null,
   "metadata": {},
   "outputs": [],
   "source": [
    "html"
   ]
  },
  {
   "cell_type": "code",
   "execution_count": null,
   "metadata": {},
   "outputs": [],
   "source": [
    "pattern = r'https:\\/\\/www\\.[a-zA-Z0-9.-]+\\.senate\\.gov'\n",
    "sitelist = re.findall(pattern,strhtml)"
   ]
  },
  {
   "cell_type": "code",
   "execution_count": null,
   "metadata": {},
   "outputs": [],
   "source": [
    "sitelist"
   ]
  },
  {
   "cell_type": "code",
   "execution_count": null,
   "metadata": {},
   "outputs": [],
   "source": [
    "emailpat = r'^[a-zA-Z0-9._%+-]+@[a-zA-Z0-9.-]+\\.[a-zA-Z]{2,}$'\n",
    "phonepat = r'\\(\\d{3}\\) \\d{3}-\\d{4}'\n",
    "pattern = r'https:\\/\\/www\\.([a-zA-Z0-9.-]+)\\.senate\\.gov'\n",
    "#run through sites\n",
    "senatedict = {}\n",
    "for address in sitelist:\n",
    "    #get senators name\n",
    "    senator = re.search(pattern,address)\n",
    "    senator = senator.group(1)\n",
    "    #grab their website\n",
    "    try:\n",
    "        site = ur.urlopen(address)     \n",
    "    except:\n",
    "        phonenum = site.getcode()\n",
    "        email =  ''\n",
    "    else:\n",
    "        #make sure it's a string\n",
    "        strhtml = str(site.read(),'utf-8')\n",
    "        #find phone numbers and emails\n",
    "        phonenum = re.findall(phonepat,strhtml)\n",
    "        email = re.findall(emailpat,strhtml) \n",
    "    subdict={'phone':phonenum,'email':email}\n",
    "    senatedict[senator]=subdict"
   ]
  },
  {
   "cell_type": "code",
   "execution_count": null,
   "metadata": {},
   "outputs": [],
   "source": [
    "senatedict"
   ]
  },
  {
   "cell_type": "code",
   "execution_count": null,
   "metadata": {},
   "outputs": [],
   "source": [
    "#let's look back in time - 2008\n",
    "site = 'https://web.archive.org/web/20080701043126/http://www.senate.gov/general/contact_information/senators_cfm.cfm'\n",
    "page = ur.urlopen(site)\n",
    "print(page.getcode())"
   ]
  },
  {
   "cell_type": "code",
   "execution_count": null,
   "metadata": {},
   "outputs": [],
   "source": [
    "html = page.read()\n",
    "strhtml = str(html,'utf-8')"
   ]
  },
  {
   "cell_type": "code",
   "execution_count": null,
   "metadata": {},
   "outputs": [],
   "source": [
    "strhtml"
   ]
  },
  {
   "cell_type": "code",
   "execution_count": null,
   "metadata": {},
   "outputs": [],
   "source": [
    "phonepat = r'\\(\\d{3}\\) \\d{3}-\\d{4}'\n",
    "namepat =r'>[A-Z][a-z]+, [A-Z][a-z]+<'\n",
    "phonenum = re.findall(phonepat,strhtml)"
   ]
  },
  {
   "cell_type": "code",
   "execution_count": null,
   "metadata": {},
   "outputs": [],
   "source": [
    "phonenum"
   ]
  },
  {
   "cell_type": "code",
   "execution_count": null,
   "metadata": {},
   "outputs": [],
   "source": []
  }
 ],
 "metadata": {
  "kernelspec": {
   "display_name": "Python 3 (ipykernel)",
   "language": "python",
   "name": "python3"
  },
  "language_info": {
   "codemirror_mode": {
    "name": "ipython",
    "version": 3
   },
   "file_extension": ".py",
   "mimetype": "text/x-python",
   "name": "python",
   "nbconvert_exporter": "python",
   "pygments_lexer": "ipython3",
   "version": "3.11.8"
  }
 },
 "nbformat": 4,
 "nbformat_minor": 4
}
