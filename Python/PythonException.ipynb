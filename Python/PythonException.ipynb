{
 "cells": [
  {
   "cell_type": "markdown",
   "metadata": {},
   "source": [
    "# Errors in Python\n",
    "Handling system errors (called `exceptions` in Python), and creating and raising your own errors are fundamental parts of programming. Python differentiates between two kinds of errors: syntax errors and exception errors. Syntax error occur if the code syntax is incorrect, such as the line below"
   ]
  },
  {
   "cell_type": "code",
   "execution_count": null,
   "metadata": {},
   "outputs": [],
   "source": [
    "print(4*7))"
   ]
  },
  {
   "cell_type": "markdown",
   "metadata": {},
   "source": [
    "Syntax errors are common and happen all the time to everyone. Exception errors occur during execution and are not related to the syntax, such as division by zero:"
   ]
  },
  {
   "cell_type": "code",
   "execution_count": null,
   "metadata": {},
   "outputs": [],
   "source": [
    "print(4/0)"
   ]
  },
  {
   "cell_type": "markdown",
   "metadata": {},
   "source": [
    "Python prints out a exception identifier `ZeroDivisionError` and a message. Whether receiving a syntax or exception error, Python treats the `exceptions` as it's own datatype that contains information about the specifics of the error.\n",
    "\n",
    "## `Exceptions` you will encounter\n",
    "The following table contains the most common types of exceptions you will encounter in Python. All the errors below are system errors.\n",
    "| Name                 | Description                                                                                      |\n",
    "|----------------------|--------------------------------------------------------------------------------------------------|\n",
    "| AssertionError      | Raised when the assert statement fails.                                                          |\n",
    "| EOFError             | Raised when the input() function meets the end-of-file condition.                                |\n",
    "| AttributeError      | Raised when the attribute assignment or reference fails.                                          |\n",
    "| TabError             | Raised when the indentations consist of inconsistent tabs or spaces.                              |\n",
    "| ImportError         | Raised when importing the module fails.                                                           |\n",
    "| IndexError          | Occurs when the index of a sequence is out of range.                                              |\n",
    "| KeyboardInterrupt  | Raised when the user inputs interrupt keys (Ctrl + C or Delete).                                   |\n",
    "| RuntimeError        | Occurs when an error does not fall into any category.                                             |\n",
    "| NameError           | Raised when a variable is not found in the local or global scope.                                  |\n",
    "| MemoryError         | Raised when programs run out of memory.                                                           |\n",
    "| ValueError          | Occurs when the operation or function receives an argument with the right type but the wrong value.|\n",
    "| ZeroDivisionError   | Raised when you divide a value or variable with zero.                                             |\n",
    "| SyntaxError         | Raised by the parser when the Python syntax is wrong.                                             |\n",
    "| IndentationError    | Occurs when there is a wrong indentation.  \n",
    "| SystemError         | Raised when the interpreter detects an internal error.                                             |\n"
   ]
  },
  {
   "cell_type": "markdown",
   "metadata": {},
   "source": [
    "## 'Raising' an Exception\n",
    "You can 'raise an error' (raise an exception) by using the function `raise`. You can raise an exception with an original message of your own."
   ]
  },
  {
   "cell_type": "code",
   "execution_count": null,
   "metadata": {},
   "outputs": [],
   "source": [
    "x = 10\n",
    "if x > 5:\n",
    "    raise Exception(f'x should not exceed 5. The value of x was {x}')"
   ]
  },
  {
   "cell_type": "markdown",
   "metadata": {},
   "source": [
    "Note: you may raise an exception using the name of a built-in exception, but you will not be raising the built-in version of this exception."
   ]
  },
  {
   "cell_type": "code",
   "execution_count": null,
   "metadata": {},
   "outputs": [],
   "source": [
    "raise IndexError()"
   ]
  },
  {
   "cell_type": "markdown",
   "metadata": {},
   "source": [
    "## 'Asserting' an Exception\n",
    "Asserting an exception allows you to test a condition (as in an `if` statement) and then throw an error if that condition is false"
   ]
  },
  {
   "cell_type": "code",
   "execution_count": null,
   "metadata": {},
   "outputs": [],
   "source": [
    "import sys\n",
    "assert ('linux' in sys.platform), \"This code runs on Linux only.\""
   ]
  },
  {
   "cell_type": "code",
   "execution_count": null,
   "metadata": {},
   "outputs": [],
   "source": [
    "sys.platform"
   ]
  },
  {
   "cell_type": "code",
   "execution_count": null,
   "metadata": {},
   "outputs": [],
   "source": [
    "#import numpy as np\n",
    "assert ('numpy' in sys.modules), \"numpy must be loaded first\""
   ]
  },
  {
   "cell_type": "code",
   "execution_count": null,
   "metadata": {},
   "outputs": [],
   "source": [
    "sys.modules"
   ]
  },
  {
   "cell_type": "code",
   "execution_count": null,
   "metadata": {},
   "outputs": [],
   "source": [
    "import numpy as np"
   ]
  },
  {
   "cell_type": "markdown",
   "metadata": {},
   "source": [
    "## The `try/except` statement\n",
    "Python contains syntax for a `try/except` statement. This statement executes everything under `try:` until it encounters an exception, and then executes the code under `except:`. The `try/except` statement allows you to continue the program even after an exception occurs in your code. For example, the zero division error,"
   ]
  },
  {
   "cell_type": "code",
   "execution_count": null,
   "metadata": {
    "scrolled": true
   },
   "outputs": [],
   "source": [
    "try:\n",
    "    4/0\n",
    "except ZeroDivisionError as zde:\n",
    "    print(zde)\n",
    "    print('program goes on')\n",
    "except NameError as ne:\n",
    "    print(ne)\n",
    "print('even after try/except')"
   ]
  },
  {
   "cell_type": "code",
   "execution_count": null,
   "metadata": {},
   "outputs": [],
   "source": [
    "zde"
   ]
  },
  {
   "cell_type": "markdown",
   "metadata": {},
   "source": [
    "Another example, when you try to open files, you may want to include such a `try/except` statement: "
   ]
  },
  {
   "cell_type": "code",
   "execution_count": null,
   "metadata": {},
   "outputs": [],
   "source": [
    "f = 'file.log'\n",
    "try:\n",
    "    file = open(f)\n",
    "    read_data = file.read()\n",
    "except FileNotFoundError as fnf_err: \n",
    "    #FileNotFoundError is a special defined exception in Python under the `NameError` category.\n",
    "    print(fnf_err)\n",
    "    print('Try to open another file')"
   ]
  },
  {
   "cell_type": "markdown",
   "metadata": {},
   "source": [
    "It should be noted that the code under `except` will not run unless it encounters a `FileNotFoundError`. You can add more `except:` statements to catch more types of errors. "
   ]
  },
  {
   "cell_type": "code",
   "execution_count": null,
   "metadata": {},
   "outputs": [],
   "source": [
    "f = 'file.log'\n",
    "try:\n",
    "    n*4;\n",
    "    file = open(f)\n",
    "    read_data = file.read()\n",
    "except FileNotFoundError as fnf_err: #FileNotFoundError is a special defined exception in Python\n",
    "    print(fnf_err)\n",
    "except NameError as nerr:\n",
    "    print(nerr)"
   ]
  },
  {
   "cell_type": "markdown",
   "metadata": {},
   "source": [
    "## The `try/except/else` statement\n",
    "You can append an `else` statement to the `try/except` statement. The code under `else` will only execute if no exception is found. For example,"
   ]
  },
  {
   "cell_type": "code",
   "execution_count": null,
   "metadata": {},
   "outputs": [],
   "source": [
    "f = 'test1.txt'\n",
    "try:\n",
    "    file = open(f)\n",
    "    read_data = file.read()\n",
    "except FileNotFoundError as fnf_err: #FileNotFoundError is a special defined exception in Python\n",
    "    print(fnf_err)\n",
    "else:\n",
    "    print(\"Opened\", f)\n",
    "    \n",
    "print(read_data)"
   ]
  },
  {
   "cell_type": "markdown",
   "metadata": {},
   "source": [
    "## The `finally` addition\n",
    "You can even add another code block to the `try/except` statement, `finally`. Everything under the `finally` will be executed regardless of whether an exception has been encountered."
   ]
  },
  {
   "cell_type": "code",
   "execution_count": null,
   "metadata": {},
   "outputs": [],
   "source": [
    "f = 'test1.txt'\n",
    "l=[\"start\"]\n",
    "try:\n",
    "    file = open(f)\n",
    "    read_data = file.read()\n",
    "    l.append(\"try\")\n",
    "except FileNotFoundError as fnf_err: #FileNotFoundError is a special defined exception in Python\n",
    "    print(fnf_err)\n",
    "    l.append(\"except\")\n",
    "else:\n",
    "    print(\"Opened\", f)\n",
    "    l.append(\"else\")\n",
    "finally:\n",
    "    l.append('finally')\n",
    "    print(l)\n",
    "    \n",
    "    \n"
   ]
  },
  {
   "cell_type": "code",
   "execution_count": null,
   "metadata": {},
   "outputs": [],
   "source": [
    "g = 'file.log'\n",
    "l=[\"start\"]\n",
    "try:\n",
    "    file = open(g)\n",
    "    read_data = file.read()\n",
    "    l.append(\"try\")\n",
    "except FileNotFoundError as fnf_err: #FileNotFoundError is a special defined exception in Python\n",
    "    print(fnf_err)\n",
    "    l.append(\"except\")\n",
    "else:\n",
    "    print(\"Opened\", g)\n",
    "    l.append(\"else\")\n",
    "finally:\n",
    "    l.append('finally')\n",
    "    print(l)"
   ]
  },
  {
   "cell_type": "code",
   "execution_count": null,
   "metadata": {},
   "outputs": [],
   "source": []
  }
 ],
 "metadata": {
  "kernelspec": {
   "display_name": "Python 3 (ipykernel)",
   "language": "python",
   "name": "python3"
  },
  "language_info": {
   "codemirror_mode": {
    "name": "ipython",
    "version": 3
   },
   "file_extension": ".py",
   "mimetype": "text/x-python",
   "name": "python",
   "nbconvert_exporter": "python",
   "pygments_lexer": "ipython3",
   "version": "3.11.8"
  }
 },
 "nbformat": 4,
 "nbformat_minor": 4
}
